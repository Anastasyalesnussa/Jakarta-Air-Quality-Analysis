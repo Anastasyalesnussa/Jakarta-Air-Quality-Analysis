{
 "cells": [
  {
   "cell_type": "markdown",
   "id": "5a67f05e",
   "metadata": {},
   "source": [
    "## About the Dataset\n",
    "\n",
    "### **Description**\n",
    "This dataset contains the **Air Quality Index (AQI)** or *Indeks Standar Pencemaran Udara (ISPU)* measured from **five air quality monitoring stations (SPKU)** in **DKI Jakarta** between **January 2010 and February 2025**.  \n",
    "Data source: [Satu Data Jakarta](https://data.jakarta.go.id)\n",
    "\n",
    "---\n",
    "\n",
    "### **File Description**\n",
    "**`jakarta_air_quality_all.csv`** — Represents the **combined results** of AQI measurements from all stations, where the **highest AQI value** of the day represents Jakarta’s overall air quality.\n",
    "\n",
    "\n",
    "---\n",
    "\n",
    "### **Variable Explanation**\n",
    "\n",
    "| Variable | Description |\n",
    "|-----------|-------------|\n",
    "| `tanggal` | Date when the AQI measurement was recorded. |\n",
    "| `stasiun` | Name or identifier of the monitoring station. |\n",
    "| `pm25` | Concentration of particulate matter ≤ 2.5 μm (µg/m³). |\n",
    "| `pm10` | Concentration of particulate matter ≤ 10 μm (µg/m³). |\n",
    "| `so2` | Sulfur dioxide concentration (ppm). |\n",
    "| `co` | Carbon monoxide concentration (ppm). |\n",
    "| `o3` | Ozone concentration (ppm). |\n",
    "| `no2` | Nitrogen dioxide concentration (ppm). |\n",
    "| `max` | Maximum pollutant value among PM2.5, PM10, SO2, CO, O3, NO2 for that date/station. |\n",
    "| `critical` | Pollutant type with the highest concentration on that day. |\n",
    "| `category` | Air quality category describing pollution level based on the `max` value. |\n",
    "\n",
    "---\n",
    "\n",
    "### **Notes**\n",
    "- AQI values are reported in accordance with Indonesia’s **national air quality standards**.\n",
    "- This dataset allows for **temporal, spatial, and health impact analyses** of urban air quality in Jakarta.\n"
   ]
  },
  {
   "cell_type": "markdown",
   "id": "8d65f76d",
   "metadata": {},
   "source": []
  }
 ],
 "metadata": {
  "kernelspec": {
   "display_name": "Python_project",
   "language": "python",
   "name": "python3"
  },
  "language_info": {
   "name": "python",
   "version": "3.11.13"
  }
 },
 "nbformat": 4,
 "nbformat_minor": 5
}
